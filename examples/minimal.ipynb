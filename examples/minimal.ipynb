{
 "cells": [
  {
   "cell_type": "markdown",
   "metadata": {
    "pycharm": {
     "name": "#%% md\n"
    }
   },
   "source": [
    "# Minimal example for Playplot\n",
    "\n",
    "Minimal example showing an interactive linear plot.\n",
    "No external local files needed (requires internet connectivity)"
   ]
  },
  {
   "cell_type": "code",
   "execution_count": null,
   "metadata": {
    "pycharm": {
     "name": "#%%\n"
    }
   },
   "outputs": [],
   "source": [
    "import matplotlib.pyplot as plt\n",
    "from playplot import Session\n",
    "\n",
    "# create a Session from the audio data (url not final)\n",
    "session = Session.from_file(\"https://github.com/groupmm/playplot/blob/main/examples/example_data/bach_bwv245_no22_vokalensemble_ilmenau.wav?raw=true\")\n",
    "\n",
    "# decorate the plot function with the session\n",
    "@session\n",
    "def plot(duration):\n",
    "    fig, ax = plt.subplots()\n",
    "    ax.plot([0, duration])\n",
    "    ax.set_xlabel(\"number of files played\")\n",
    "    ax.set_ylabel(\"time in seconds\")\n",
    "    return fig, ax\n",
    "\n",
    "# call the plot function, it will create the plot in another process\n",
    "plot(session.duration)\n",
    "\n",
    "# start the session to enable audio playback\n",
    "session.start()"
   ]
  }
 ],
 "metadata": {
  "kernelspec": {
   "display_name": "Python 3",
   "language": "python",
   "name": "python3"
  },
  "language_info": {
   "codemirror_mode": {
    "name": "ipython",
    "version": 2
   },
   "file_extension": ".py",
   "mimetype": "text/x-python",
   "name": "python",
   "nbconvert_exporter": "python",
   "pygments_lexer": "ipython2",
   "version": "2.7.6"
  }
 },
 "nbformat": 4,
 "nbformat_minor": 0
}
