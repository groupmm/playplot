{
 "cells": [
  {
   "cell_type": "markdown",
   "metadata": {
    "pycharm": {
     "name": "#%% md\n"
    }
   },
   "source": [
    "# Basic Examples for playplot"
   ]
  },
  {
   "cell_type": "code",
   "execution_count": null,
   "metadata": {
    "pycharm": {
     "name": "#%%\n"
    }
   },
   "outputs": [],
   "source": [
    "import numpy as np\n",
    "import matplotlib.pyplot as plt\n",
    "from playplot import Session\n",
    "\n",
    "from example_data import example_a_time_feature_mapping as time_feature_mapping, example_a_audio as audio, example_a_sr as sr"
   ]
  },
  {
   "cell_type": "markdown",
   "metadata": {
    "pycharm": {
     "name": "#%% md\n"
    }
   },
   "source": [
    "## Example 1\n",
    "\n",
    "Plot a waveform to its corresponding audio.\n",
    "In the most simple way."
   ]
  },
  {
   "cell_type": "code",
   "execution_count": null,
   "metadata": {
    "pycharm": {
     "name": "#%%\n"
    }
   },
   "outputs": [],
   "source": [
    "# crate a Session from the audio data\n",
    "session01 = Session(audio, sr)\n",
    "\n",
    "# decorate the plot function with the session\n",
    "# noinspection PyShadowingNames\n",
    "@session01\n",
    "def plot(name):\n",
    "    # define a plot function\n",
    "    # the function must be serializable by dill (shouldn't be a practical limitation)\n",
    "    # if there are issues check the documentation and the limitations of dill and multiprocessing\n",
    "\n",
    "    # create figure and axis\n",
    "    fig = plt.figure(figsize=(6, 2), dpi=72)\n",
    "    ax = plt.subplot(1, 1, 1)\n",
    "\n",
    "    # plot waveform into the figure -----------------------------------------------\n",
    "    T_coef = np.arange(audio.shape[0]) / sr\n",
    "    ax.plot(T_coef, audio, color='gray')\n",
    "    ax.set_xlim([T_coef[0], T_coef[-1]])\n",
    "    ylim_x = audio[np.isfinite(audio)]\n",
    "    x_min, x_max = ylim_x.min(), ylim_x.max()\n",
    "    if x_max == x_min:\n",
    "        x_max = x_max + 1\n",
    "    ax.set_ylim([min(1.1 * x_min, 0.9 * x_min), max(1.1 * x_max, 0.9 * x_max)])\n",
    "    ax.set_xlabel('Time (seconds)')\n",
    "    plt.tight_layout()\n",
    "    # -----------------------------------------------------------------------------\n",
    "\n",
    "    # return the figure, the axis and an optional config dict for the cursor as a tuple\n",
    "    return fig, ax, {'title': name}\n",
    "\n",
    "\n",
    "#call the plot function, it will create the plot in another process\n",
    "plot(\"A01 Fig 1\")\n",
    "\n",
    "#we can create multiple plots in on session (all plots in a session will be linked)\n",
    "plot(\"A01 Fig 2\")\n",
    "\n",
    "#start the session to enable audio playback\n",
    "session01.start()"
   ]
  },
  {
   "cell_type": "markdown",
   "metadata": {
    "pycharm": {
     "name": "#%% md\n"
    }
   },
   "source": [
    "## Example 2\n",
    "\n",
    "Use an existing plotting function, in two ways.\n",
    "Examples for some additional configuration options."
   ]
  },
  {
   "cell_type": "code",
   "execution_count": null,
   "metadata": {
    "pycharm": {
     "name": "#%%\n"
    }
   },
   "outputs": [],
   "source": [
    "def plot_waveform():\n",
    "    # create figure and axis\n",
    "    fig = plt.figure(figsize=(6, 2), dpi=72)\n",
    "    ax = plt.subplot(1, 1, 1)\n",
    "\n",
    "    # plot into the axis\n",
    "    T_coef = np.arange(audio.shape[0]) / sr\n",
    "    ax.plot(T_coef, audio, color='gray')\n",
    "    ax.set_xlim([T_coef[0], T_coef[-1]])\n",
    "    ylim_x = audio[np.isfinite(audio)]\n",
    "    x_min, x_max = ylim_x.min(), ylim_x.max()\n",
    "    if x_max == x_min:\n",
    "        x_max = x_max + 1\n",
    "    ax.set_ylim([min(1.1 * x_min, 0.9 * x_min), max(1.1 * x_max, 0.9 * x_max)])\n",
    "    ax.set_xlabel('Time (seconds)')\n",
    "    plt.tight_layout()\n",
    "\n",
    "    return fig, ax"
   ]
  },
  {
   "cell_type": "code",
   "execution_count": null,
   "metadata": {
    "pycharm": {
     "name": "#%%\n"
    }
   },
   "outputs": [],
   "source": [
    "session02 = Session(audio, sr)\n",
    "\n",
    "# start the session to enable audio playback\n",
    "session02.start()\n",
    "\n",
    "# set initial volume\n",
    "session02.volume = 0.5\n",
    "\n",
    "# begin playback at the 10s mark\n",
    "session02.time = 10\n",
    "\n",
    "# create a wrapped version of the plot function with the help os the session\n",
    "plot_wrapped = session02(plot_waveform)\n",
    "\n",
    "#wrap with decorator and add functionality\n",
    "@session02\n",
    "def plot_decorated(**kwargs):\n",
    "    return *plot_waveform(), kwargs\n",
    "\n",
    "# call the original version\n",
    "plot_waveform()\n",
    "\n",
    "# call the wrapped function\n",
    "plot_wrapped()\n",
    "\n",
    "# call the new decorated function with extra kwargs\n",
    "plot_decorated(title=\"A02 Decorated\", window_pos=(64,64), axvline_kwargs={\"alpha\": 0.5, \"ls\": \"--\", \"color\": \"c\", \"lw\": 2, \"zorder\": 10})"
   ]
  },
  {
   "cell_type": "markdown",
   "metadata": {
    "pycharm": {
     "name": "#%% md\n"
    }
   },
   "source": [
    "## Example 3\n",
    "\n",
    "Shows a non-linear mapping.\n",
    "This mapping is dense meaning for each segment the start time is required.\n",
    "Additionally, the start and end value of the new segment space are required.\n",
    "All three are provided as a tuple to \"mapping\""
   ]
  },
  {
   "cell_type": "code",
   "execution_count": null,
   "metadata": {
    "pycharm": {
     "name": "#%%\n"
    }
   },
   "outputs": [],
   "source": [
    "session03 = Session(audio, sr)\n",
    "\n",
    "# start the session to enable audio playback\n",
    "session03.start()\n",
    "session03.volume = 0.5\n",
    "\n",
    "@session03\n",
    "def plot():\n",
    "    fig, ax = plt.subplots()\n",
    "    ax.plot(time_feature_mapping)\n",
    "    ax.set_xlabel('Time (measures)')\n",
    "    ax.set_ylabel('Time (seconds)')\n",
    "\n",
    "    mapping = time_feature_mapping, 0, time_feature_mapping.size - 1\n",
    "\n",
    "    return fig, ax, {\"mapping\": mapping,\n",
    "                     \"title\": \"A03 Dense Mapping\"}\n",
    "\n",
    "plot()"
   ]
  },
  {
   "cell_type": "code",
   "execution_count": null,
   "metadata": {
    "pycharm": {
     "name": "#%%\n"
    }
   },
   "outputs": [],
   "source": []
  }
 ],
 "metadata": {
  "kernelspec": {
   "display_name": "Python 3",
   "language": "python",
   "name": "python3"
  },
  "language_info": {
   "codemirror_mode": {
    "name": "ipython",
    "version": 2
   },
   "file_extension": ".py",
   "mimetype": "text/x-python",
   "name": "python",
   "nbconvert_exporter": "python",
   "pygments_lexer": "ipython2",
   "version": "2.7.6"
  }
 },
 "nbformat": 4,
 "nbformat_minor": 0
}
