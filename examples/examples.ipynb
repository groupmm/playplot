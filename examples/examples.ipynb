{
 "cells": [
  {
   "cell_type": "markdown",
   "metadata": {
    "pycharm": {
     "name": "#%% md\n"
    }
   },
   "source": [
    "# Basic Examples"
   ]
  },
  {
   "cell_type": "code",
   "execution_count": null,
   "metadata": {
    "pycharm": {
     "name": "#%%\n"
    }
   },
   "outputs": [],
   "source": [
    "import numpy as np\n",
    "\n",
    "# This file uses multiple Sessions, but only one will be open at a time, unless MULTI_SESSION is set to True\n",
    "MULTI_SESSION = False\n",
    "session_storage = dict()\n",
    "\n",
    "from example_data import *\n",
    "\n",
    "sr = 48000\n",
    "annotations = np.genfromtxt(simple_annotations_file, delimiter=',')\n",
    "audio, _ = lfb.read_audio(simple_audio_file, mono=True, Fs=sr)"
   ]
  },
  {
   "cell_type": "code",
   "execution_count": null,
   "metadata": {
    "pycharm": {
     "name": "#%%\n"
    }
   },
   "outputs": [],
   "source": [
    "# example 1:\n",
    "# very simple example plotting function plots\n",
    "# audio is a numpy array containing audio at the sampling rate sr\n",
    "\n",
    "from makeplotplayable import Session\n",
    "\n",
    "# crate a Session from the audio data\n",
    "session = Session(audio, sr)\n",
    "\n",
    "\n",
    "#decorate the plot function with the session\n",
    "# noinspection PyShadowingNames\n",
    "@session\n",
    "def plot(audio, sr, name):\n",
    "    # define a plot function, which does not use any global (not even imports)\n",
    "    # this is a limitation from multiprocessing\n",
    "    # everything the function needs should be parsed as an argument/key-word-argument\n",
    "    # simple datatypes definitely work, we can even pass other functions (stay away from lambdas)\n",
    "    # if there are issues check the limitations of dill\n",
    "    import libfmp.b as lfb\n",
    "\n",
    "    fig, ax, _ = lfb.plot_signal(audio, sr)\n",
    "\n",
    "    # return the figure, the axis and an optional config dict for the cursor as a tuple\n",
    "    return fig, ax, {'title': name}\n",
    "\n",
    "\n",
    "#call the plot function, it will create the plot in another process\n",
    "plot(audio, sr, \"Fig 1\")\n",
    "\n",
    "#we can create multiple plots in on session (all plots in a session will be linked)\n",
    "plot(audio, sr, \"Fig 2\")\n",
    "\n",
    "#start the session to enable audio playback\n",
    "session.start()\n",
    "\n",
    "if MULTI_SESSION:\n",
    "    session_storage[\"example 1\"] = session"
   ]
  },
  {
   "cell_type": "code",
   "execution_count": null,
   "metadata": {
    "pycharm": {
     "name": "#%%\n"
    }
   },
   "outputs": [],
   "source": [
    "#example 2\n",
    "# this example shows an alternative way to wrap the plotting function and how the original can be used too.\n",
    "# And the two alternative return types of the plotting function\n",
    "# In addition, the way how to stream audio directly from a file is shown\n",
    "\n",
    "from makeplotplayable import Session\n",
    "\n",
    "\n",
    "# noinspection PyShadowingNames\n",
    "def plot(annotations, disable_cursor=False):\n",
    "    import matplotlib.pyplot as plt\n",
    "    fig, ax = plt.subplots()\n",
    "\n",
    "    ax.plot(annotations)\n",
    "\n",
    "    # shows that an external plot doesn't need to be interactive\n",
    "    if disable_cursor:\n",
    "        return\n",
    "\n",
    "    return fig, ax\n",
    "\n",
    "\n",
    "# create session from file\n",
    "session = Session.from_file(simple_audio_file, looping=True)\n",
    "#place curser at 10s\n",
    "session.time = 10\n",
    "\n",
    "#start the session to enable audio playback\n",
    "session.start()\n",
    "\n",
    "#call the plot function plot will be show normally\n",
    "plot(annotations)\n",
    "\n",
    "# wrap the plot function to create a playable version\n",
    "plot_wrap = session(plot)\n",
    "# call that playable version\n",
    "plot_wrap(annotations)\n",
    "# call playable version with playback disabled\n",
    "plot_wrap(annotations, disable_cursor=True)\n",
    "\n",
    "if MULTI_SESSION:\n",
    "    session_storage[\"example 2\"] = session"
   ]
  },
  {
   "cell_type": "code",
   "execution_count": null,
   "metadata": {
    "pycharm": {
     "name": "#%%\n"
    }
   },
   "outputs": [],
   "source": [
    "# It is possible to query the current playback time and state\n",
    "print(f'Session state: {session.time=} {session.paused=}')"
   ]
  },
  {
   "cell_type": "code",
   "execution_count": null,
   "metadata": {
    "pycharm": {
     "name": "#%%\n"
    }
   },
   "outputs": [],
   "source": [
    "# example 3\n",
    "# this example shows that multiple plotting functions are possible.\n",
    "# How to use extra functions.\n",
    "# The way the \"sparse\" mapping works (mapping as a list of time position pairs)\n",
    "# and additional plot parameters\n",
    "from makeplotplayable import Session\n",
    "\n",
    "# create session from file\n",
    "session = Session(audio, sr)\n",
    "session.start()\n",
    "\n",
    "\n",
    "# noinspection PyShadowingNames\n",
    "@session\n",
    "def plotA(audio, sr):\n",
    "    import libfmp.b as lfb\n",
    "\n",
    "    fig, ax, line = lfb.plot_signal(audio, sr)\n",
    "\n",
    "    return fig, ax\n",
    "\n",
    "\n",
    "# noinspection PyShadowingNames\n",
    "@session\n",
    "def plotB(audio, sr, mapper):\n",
    "    import libfmp.b as lfb\n",
    "\n",
    "    fig, ax, line = lfb.plot_signal(audio, sr)\n",
    "\n",
    "    mapping = mapper(audio.shape[0] / sr)\n",
    "\n",
    "    return fig, ax, {\"mapping\": mapping,\n",
    "                     \"axvline_kwargs\": {\"alpha\": 0.9, \"ls\": 'dashdot', \"color\": 'c', \"lw\": 2, \"zorder\": 10},\n",
    "                     \"title\": \"Sparse Mapping Function\",\n",
    "                     \"window_pos\": (0, 0)}\n",
    "\n",
    "\n",
    "# additional function has same restrictions/requirements (see imports in function)\n",
    "# noinspection PyShadowingNames\n",
    "def mapper(duration):\n",
    "    import numpy as np\n",
    "    ## mapping the midpoint offset\n",
    "    ## after half the audio is played the curser is still at the 10% mark\n",
    "    mapping = np.array([\n",
    "        [0, 0],\n",
    "        [duration / 2, duration / 10],\n",
    "        [duration, duration]\n",
    "    ])\n",
    "    return mapping\n",
    "\n",
    "\n",
    "# it is possible to use different plotting functions\n",
    "plotA(audio, sr)\n",
    "plotB(audio, sr, mapper)\n",
    "\n",
    "if MULTI_SESSION:\n",
    "    session_storage[\"example 3\"] = session"
   ]
  },
  {
   "cell_type": "code",
   "execution_count": null,
   "metadata": {
    "pycharm": {
     "name": "#%%\n"
    }
   },
   "outputs": [],
   "source": [
    "# example 4\n",
    "# this example shows an alternative mapping methode\n",
    "# The way the \"dense\" mapping works (mapping as a list of all times between features)\n",
    "from makeplotplayable import Session\n",
    "\n",
    "# create session from file\n",
    "session = Session(audio, sr)\n",
    "session.start()\n",
    "\n",
    "\n",
    "# noinspection PyShadowingNames\n",
    "@session\n",
    "def plotA(audio, sr):\n",
    "    import libfmp.b as lfb\n",
    "\n",
    "    fig, ax, line = lfb.plot_signal(audio, sr)\n",
    "\n",
    "    return fig, ax\n",
    "\n",
    "\n",
    "# noinspection PyShadowingNames\n",
    "@session\n",
    "def plotB(annotations):\n",
    "    import matplotlib.pyplot as plt\n",
    "\n",
    "    fig, ax = plt.subplots()\n",
    "\n",
    "    ax.plot(annotations[:, 0])\n",
    "    print(annotations.shape)\n",
    "    mapping = annotations[:, 0], 0, annotations.shape[0] - 1\n",
    "\n",
    "\n",
    "\n",
    "    return fig, ax, {\"mapping\": mapping,\n",
    "                     \"title\": \"Dense Mapping\"}\n",
    "\n",
    "plotA(audio, sr)\n",
    "plotB(annotations)\n",
    "\n",
    "if MULTI_SESSION:\n",
    "    session_storage[\"example 4\"] = session"
   ]
  },
  {
   "cell_type": "code",
   "execution_count": null,
   "metadata": {
    "pycharm": {
     "name": "#%%\n"
    }
   },
   "outputs": [],
   "source": [
    "# example 5:\n",
    "# this example shows how an extra axis for a cursor could be constructed\n",
    "# this example shows no new core functionality\n",
    "\n",
    "session = Session(audio, sr)\n",
    "session.start()\n",
    "\n",
    "\n",
    "# noinspection PyShadowingNames\n",
    "@session\n",
    "def plot(audio, sr, annotations):\n",
    "    import matplotlib.pyplot as plt\n",
    "    from matplotlib.transforms import Bbox\n",
    "    import libfmp.b as lfb\n",
    "\n",
    "    fig, axs = plt.subplots(2)\n",
    "\n",
    "    lfb.plot_signal(audio, sr, ax=axs[0])\n",
    "    axs[1].plot(annotations)\n",
    "    axs[1].set_xlim(annotations[0, 0], annotations[-1, 0])\n",
    "\n",
    "    fig.tight_layout()\n",
    "\n",
    "    pa = axs[0].get_position().get_points()\n",
    "    pb = axs[1].get_position().get_points()\n",
    "\n",
    "    p = Bbox([[pb[0, 0], pb[0, 1]], [pa[1, 0], pa[1, 1]]])\n",
    "    ax = fig.add_axes(p, xlim=(0, 1))\n",
    "    ax.update_datalim([(0, 0), (1, 0)])\n",
    "    ax.axis('off')\n",
    "\n",
    "    return fig, ax, {\"title\": \"Subplot Cursor\"}\n",
    "\n",
    "\n",
    "plot(audio, sr, annotations)\n",
    "\n",
    "if MULTI_SESSION:\n",
    "    session_storage[\"example 5\"] = session"
   ]
  },
  {
   "cell_type": "code",
   "execution_count": null,
   "metadata": {
    "pycharm": {
     "name": "#%%\n"
    }
   },
   "outputs": [],
   "source": [
    "# example 6:\n",
    "# this example shows how extra elements can be animated and how to register mpl events\n",
    "\n",
    "from makeplotplayable import Session\n",
    "\n",
    "session = Session(audio, sr)\n",
    "session.start()\n",
    "\n",
    "\n",
    "# noinspection PyShadowingNames\n",
    "@session\n",
    "def plot(x, sr):\n",
    "    import libfmp.b as lfb\n",
    "\n",
    "    fig, ax, line = lfb.plot_signal(x, sr)\n",
    "\n",
    "    text = ax.text(10, 0, '____', style='italic', bbox={\n",
    "        'facecolor': 'red', 'alpha': 0.5, 'pad': 10})\n",
    "\n",
    "    string = \"\"\n",
    "    force_redraw = False\n",
    "\n",
    "    # a simple demo of the mpl key_press_event; write into a text box\n",
    "    def on_key(event):\n",
    "        # raise Exception(\"sfasdf\")\n",
    "        # nonlocal allows to override variables from the outer functions scope similar to global\n",
    "        nonlocal string, force_redraw\n",
    "        force_redraw = True\n",
    "        if event.key == \"delete\":\n",
    "            string = \"\"\n",
    "        elif event.key == \"backspace\":\n",
    "            if len(string) > 0:\n",
    "                string = string[:-1]\n",
    "        else:\n",
    "            string += event.key\n",
    "\n",
    "    fig.canvas.mpl_connect('key_press_event', on_key)\n",
    "\n",
    "    last_draw_input = None\n",
    "\n",
    "    def draw_function(time, pos, paused):\n",
    "        nonlocal last_draw_input, force_redraw\n",
    "        # only redraw if something animated changed\n",
    "        if last_draw_input == (time, pos, paused) and not force_redraw:\n",
    "            return False\n",
    "\n",
    "        last_draw_input = (time, pos, paused)\n",
    "\n",
    "        text.set_text(f\"{time=:3.2f}, {pos=:3.2f}, {paused=} ♯ \\N{Music Flat Sign} {string}\")\n",
    "\n",
    "        force_redraw = False\n",
    "        return True\n",
    "\n",
    "    return fig, ax, {\"title\": \"Extra Animations\",\n",
    "                     \"draw_function\": draw_function,\n",
    "                     \"artists\": [text]}\n",
    "\n",
    "\n",
    "plot(audio, sr)\n",
    "\n",
    "if MULTI_SESSION:\n",
    "    session_storage[\"example 6\"] = session"
   ]
  },
  {
   "cell_type": "code",
   "execution_count": null,
   "metadata": {
    "pycharm": {
     "name": "#%%\n"
    }
   },
   "outputs": [],
   "source": [
    "# example 7:\n",
    "# very simple example streaming the audio file from a http(s) url\n",
    "\n",
    "from makeplotplayable import Session\n",
    "\n",
    "# crate a Session from the audio data from an url\n",
    "session = Session.from_file(url_audio_example)\n",
    "\n",
    "# noinspection PyShadowingNames\n",
    "@session\n",
    "def plot(annotations, title):\n",
    "    import matplotlib.pyplot as plt\n",
    "    fig, ax = plt.subplots()\n",
    "    ax.plot(annotations)\n",
    "\n",
    "    return fig, ax, {\"title\": title}\n",
    "\n",
    "plot(annotations, \"Web example\")\n",
    "\n",
    "session.start()\n",
    "\n",
    "if MULTI_SESSION:\n",
    "    session_storage[\"example 7\"] = session"
   ]
  }
 ],
 "metadata": {
  "kernelspec": {
   "display_name": "Python 3 (ipykernel)",
   "language": "python",
   "name": "python3"
  },
  "language_info": {
   "codemirror_mode": {
    "name": "ipython",
    "version": 3
   },
   "file_extension": ".py",
   "mimetype": "text/x-python",
   "name": "python",
   "nbconvert_exporter": "python",
   "pygments_lexer": "ipython3",
   "version": "3.10.4"
  }
 },
 "nbformat": 4,
 "nbformat_minor": 1
}
