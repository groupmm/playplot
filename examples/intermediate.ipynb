{
 "cells": [
  {
   "cell_type": "markdown",
   "metadata": {
    "pycharm": {
     "name": "#%% md\n"
    }
   },
   "source": [
    "# Intermediate Examples for Playplot"
   ]
  },
  {
   "cell_type": "code",
   "execution_count": null,
   "metadata": {
    "pycharm": {
     "name": "#%%\n"
    }
   },
   "outputs": [],
   "source": [
    "import numpy as np\n",
    "import os\n",
    "# python -m pip install libfmp\n",
    "import libfmp.b as lfb\n",
    "import librosa\n",
    "import matplotlib.pyplot as plt\n",
    "from playplot import Session\n",
    "\n",
    "from example_data import simple_annotations_file, simple_audio_file\n",
    "\n",
    "sr = 48000\n",
    "annotations = np.genfromtxt(simple_annotations_file, delimiter=',')\n",
    "audio, _ = lfb.read_audio(simple_audio_file, mono=True, Fs=sr)"
   ]
  },
  {
   "cell_type": "markdown",
   "metadata": {
    "pycharm": {
     "name": "#%% md\n"
    }
   },
   "source": [
    "# Example 1\n",
    "This example shows an alternative way to wrap the plotting function and how the original can be used too.\n",
    "And the two alternative return types of the plotting function\n",
    "In addition, the way how to stream audio directly from a file is shown"
   ]
  },
  {
   "cell_type": "code",
   "execution_count": null,
   "metadata": {
    "pycharm": {
     "name": "#%%\n"
    }
   },
   "outputs": [],
   "source": [
    "def plot(annotations_, disable_cursor=False):\n",
    "    fig, ax = plt.subplots()\n",
    "    ax.plot([0, annotations_[-1,0]])\n",
    "    ax.set_xlabel(\"number of files played\")\n",
    "    ax.set_ylabel(\"time in seconds\")\n",
    "\n",
    "    # external plot doesn't need to be interactive\n",
    "    if disable_cursor:\n",
    "        return\n",
    "\n",
    "    # configuration parameters are optional\n",
    "    return fig, ax\n",
    "\n",
    "\n",
    "# create session from file\n",
    "session01 = Session.from_file(simple_audio_file, looping=True)\n",
    "#place curser at 10s\n",
    "session01.time = 10\n",
    "\n",
    "#start the session to enable audio playback\n",
    "session01.start()\n",
    "\n",
    "#call the plot function plot will be show normally\n",
    "plot(annotations)\n",
    "\n",
    "# wrap the plot function to create a playable version\n",
    "plot_wrap = session01(plot)## Example 2 Save Animation\n",
    "# call that playable version\n",
    "plot_wrap(annotations)\n",
    "# call playable version with playback disabled\n",
    "plot_wrap(annotations, disable_cursor=True)"
   ]
  },
  {
   "cell_type": "code",
   "execution_count": null,
   "metadata": {
    "pycharm": {
     "name": "#%%\n"
    }
   },
   "outputs": [],
   "source": [
    "# It is possible to query the current playback time and state\n",
    "print(f'Session state: {session01.time=} {session01.paused=}')"
   ]
  },
  {
   "cell_type": "markdown",
   "metadata": {
    "pycharm": {
     "name": "#%% md\n"
    }
   },
   "source": [
    "# Example 2\n",
    "This example shows that multiple plotting functions are possible.\n",
    "How to use extra functions.\n",
    "The way the \"sparse\" mapping works (mapping as a list of time position pairs)\n",
    "and additional plot parameters\n",
    "\n",
    "An extra cell allows to save the animation frame by frame to be made into a video"
   ]
  },
  {
   "cell_type": "code",
   "execution_count": null,
   "metadata": {
    "pycharm": {
     "name": "#%%\n"
    }
   },
   "outputs": [],
   "source": [
    "# create session; specify output folder for saved images\n",
    "session02 = Session(audio, sr, save_folder=\"animation_out\")\n",
    "session02.start()\n",
    "\n",
    "\n",
    "@session02\n",
    "def plot_a(audio_, sr_):\n",
    "    fig, ax, line = lfb.plot_signal(audio_, sr_, figsize=(12, 4))\n",
    "\n",
    "    return fig, ax\n",
    "\n",
    "\n",
    "@session02\n",
    "def plot_b(audio_, sr_):\n",
    "    fig, ax = plt.subplots(figsize=(12, 4), dpi=72)\n",
    "\n",
    "    duration = audio_.shape[0] / sr_\n",
    "    mapping = mapper(duration)\n",
    "\n",
    "    ax.plot(mapping[:,1],mapping[:,0])\n",
    "    ax.update_datalim([(0, duration), (duration, 0)])\n",
    "    ax.set_xlabel(\"some position axis\")\n",
    "    ax.set_ylabel(\"time in seconds\")\n",
    "    plt.tight_layout()\n",
    "\n",
    "    return fig, ax, {\"mapping\": mapping,\n",
    "                     \"axvline_kwargs\": {\"alpha\": 0.9, \"ls\": 'dashdot', \"color\": 'c', \"lw\": 2, \"zorder\": 10},\n",
    "                     \"title\": \"B02 Sparse Mapping Function\",\n",
    "                     \"window_pos\": (0, 0)}\n",
    "\n",
    "\n",
    "def mapper(duration):\n",
    "    # mapping the midpoint offset\n",
    "    # after half the audio is played the curser is still at the 10% mark\n",
    "    mapping = np.array([\n",
    "        [0, 0],\n",
    "        [duration / 2, duration / 10],\n",
    "        [duration, duration]\n",
    "    ])\n",
    "    return mapping\n",
    "\n",
    "\n",
    "# it is possible to use different plotting functions\n",
    "plot_a(audio, sr)\n",
    "plot_b(audio, sr)"
   ]
  },
  {
   "cell_type": "markdown",
   "metadata": {
    "pycharm": {
     "name": "#%% md\n"
    }
   },
   "source": [
    "## Example 2 Save Animation"
   ]
  },
  {
   "cell_type": "code",
   "execution_count": null,
   "metadata": {
    "pycharm": {
     "name": "#%%\n"
    }
   },
   "outputs": [],
   "source": [
    "# create output folder\n",
    "if not os.path.exists(\"animation_out\"):\n",
    "    os.mkdir(\"animation_out\")\n",
    "# wait until all plots are opened (if plots are already closed wait 10s)\n",
    "session02.wait_for_plots_opening()\n",
    "\n",
    "# define parameters\n",
    "start = 0\n",
    "end = session02.duration\n",
    "fps = 30\n",
    "\n",
    "for i in range(int((end-start)*fps)):\n",
    "    # jump to the correct time for each frame\n",
    "    session02.time = i/fps+start\n",
    "    # save a image (png) for each frame\n",
    "    session02.save_plot_images(i)"
   ]
  },
  {
   "cell_type": "markdown",
   "metadata": {
    "pycharm": {
     "name": "#%% md\n"
    }
   },
   "source": [
    "After saving, we can use some ffmpeg magic to create videos, combine them and add audio\n",
    "```\n",
    "cd animation_out &&\n",
    "ffmpeg -framerate 30 -pattern_type glob -i 'Fig*.png' -c:v libx264 -pix_fmt yuv420p -filter_complex \"color=white,format=rgb24[c];[c][0]scale2ref[c][i];[c][i]overlay=format=auto:shortest=1,setsar=1\" a.mp4 &&\n",
    "ffmpeg -framerate 30 -pattern_type glob -i 'B02*.png' -c:v libx264 -pix_fmt yuv420p -filter_complex \"color=white,format=rgb24[c];[c][0]scale2ref[c][i];[c][i]overlay=format=auto:shortest=1,setsar=1\" b.mp4 &&\n",
    "ffmpeg -i a.mp4 -i b.mp4 -i ../example_data/bach_bwv245_no22_vokalensemble_ilmenau.wav -filter_complex vstack=inputs=2 combined.mp4\n",
    "```\n",
    "https://stackoverflow.com/questions/24961127/how-to-create-a-video-from-images-with-ffmpeg\n",
    "https://stackoverflow.com/questions/11552565/vertically-or-horizontally-stack-mosaic-several-videos-using-ffmpeg/33764934#33764934"
   ]
  },
  {
   "cell_type": "markdown",
   "metadata": {
    "pycharm": {
     "name": "#%% md\n"
    }
   },
   "source": [
    "# Example 3\n",
    "This example shows how an extra axes for a cursor could be constructed\n",
    "It doesn't show any new core features"
   ]
  },
  {
   "cell_type": "code",
   "execution_count": null,
   "metadata": {
    "pycharm": {
     "name": "#%%\n"
    }
   },
   "outputs": [],
   "source": [
    "session03 = Session(audio, sr)\n",
    "session03.start()\n",
    "\n",
    "@session03\n",
    "def plot():\n",
    "    from matplotlib.transforms import Bbox\n",
    "\n",
    "    fig, axs = plt.subplots(2)\n",
    "\n",
    "    # first subplot\n",
    "    lfb.plot_signal(audio, sr, ax=axs[0])\n",
    "    # second subplot\n",
    "    axs[1].plot(annotations)\n",
    "    axs[1].set_xlim(annotations[0, 0], annotations[-1, 0])\n",
    "    axs[1].set_ylabel(\"some data\")\n",
    "\n",
    "    fig.tight_layout()\n",
    "\n",
    "    # create bounding box for extra axes\n",
    "    pa = axs[0].get_position().get_points()\n",
    "    pb = axs[1].get_position().get_points()\n",
    "    p = Bbox([[pb[0, 0], pb[0, 1]], [pa[1, 0], pa[1, 1]]])\n",
    "\n",
    "    # create axes (spanning both plots, with an arbitrary non-zero x-axis)\n",
    "    ax = fig.add_axes(p, xlim=(0, 1))\n",
    "    ax.update_datalim([(0, 0), (1, 0)])\n",
    "    # hide decoration\n",
    "    ax.axis('off')\n",
    "\n",
    "    return fig, ax, {\"title\": \"B03 Subplot Cursor\"}\n",
    "\n",
    "\n",
    "plot()"
   ]
  },
  {
   "cell_type": "markdown",
   "metadata": {
    "pycharm": {
     "name": "#%% md\n"
    }
   },
   "source": [
    "# Example 4:\n",
    "This example shows how extra elements can be animated and how to register mpl events"
   ]
  },
  {
   "cell_type": "code",
   "execution_count": null,
   "metadata": {
    "pycharm": {
     "name": "#%%\n"
    }
   },
   "outputs": [],
   "source": [
    "session04 = Session(audio, sr)\n",
    "session04.start()\n",
    "\n",
    "@session04\n",
    "def plot(x):\n",
    "    fig, ax, line = lfb.plot_signal(x, sr)\n",
    "\n",
    "    # this element will be animated (is instance of Artist)\n",
    "    text = ax.text(10, 0, '____', style='italic', bbox={\n",
    "        'facecolor': 'red', 'alpha': 0.5, 'pad': 10})\n",
    "\n",
    "    string = \"\"\n",
    "    force_redraw = False\n",
    "\n",
    "    # a simple demo of the mpl key_press_event; write into a text box\n",
    "    def on_key(event):\n",
    "        # nonlocal allows to override variables from the outer functions scope similar to global\n",
    "        nonlocal string, force_redraw\n",
    "        force_redraw = True\n",
    "        if event.key == \"delete\":\n",
    "            string = \"\"\n",
    "        elif event.key == \"backspace\":\n",
    "            if len(string) > 0:\n",
    "                string = string[:-1]\n",
    "        else:\n",
    "            string += event.key\n",
    "\n",
    "    fig.canvas.mpl_connect('key_press_event', on_key)\n",
    "\n",
    "    last_draw_input = None\n",
    "\n",
    "    # called every (potential) frame (returns if redraw is needed)\n",
    "    def draw_function(time, pos, paused):\n",
    "        nonlocal last_draw_input, force_redraw\n",
    "        # only redraw if something animated changed\n",
    "        if last_draw_input == (time, pos, paused) and not force_redraw:\n",
    "            return False\n",
    "\n",
    "        last_draw_input = (time, pos, paused)\n",
    "\n",
    "        text.set_text(f\"{time=:3.2f}, {pos=:3.2f}, {paused=} ♯ \\N{Music Flat Sign} {string}\")\n",
    "\n",
    "        force_redraw = False\n",
    "        return True\n",
    "\n",
    "    # all elements which get animated must be an instance of Artist and returned here\n",
    "    return fig, ax, {\"title\": \"B04 Extra Animations\",\n",
    "                     \"draw_function\": draw_function,\n",
    "                     \"artists\": [text]}\n",
    "\n",
    "plot(audio)"
   ]
  },
  {
   "cell_type": "markdown",
   "metadata": {
    "pycharm": {
     "name": "#%% md\n"
    }
   },
   "source": [
    "# Example 5:\n",
    "Another example for the draw_function.\n",
    "This time the plot itself is animated."
   ]
  },
  {
   "cell_type": "code",
   "execution_count": null,
   "metadata": {
    "pycharm": {
     "name": "#%%\n"
    }
   },
   "outputs": [],
   "source": [
    "session05 = Session(audio, sr)\n",
    "session05.start()\n",
    "\n",
    "@session05\n",
    "def plot_waveform(x):\n",
    "    fig, ax, line = lfb.plot_signal(x, sr)\n",
    "    return fig, ax, {\"title\": \"B05 Waveform\"}\n",
    "\n",
    "plot_waveform(audio)\n",
    "\n",
    "@session05\n",
    "def plot_fft(x: np.ndarray):\n",
    "    N = 8192\n",
    "    fig, ax = plt.subplots()\n",
    "    line, = ax.plot(np.arange(N//2+1) * sr / N, np.zeros(N//2+1))\n",
    "    ax.set_ylim([-80, 50])\n",
    "    ax.set_xscale('log', base=2)\n",
    "\n",
    "    ax.set_xlabel(\"frequency in Hz\")\n",
    "    ax.set_ylabel(\"power in dB\")\n",
    "\n",
    "    ax.set_xlim(40,10000)\n",
    "\n",
    "    last_time = 0\n",
    "    # called every (potential) frame (returns if redraw is needed)\n",
    "    def draw_function(time, _pos, _paused):\n",
    "        nonlocal last_time\n",
    "        # don't redraw if the time has not changed\n",
    "        if last_time == time:\n",
    "            return False\n",
    "\n",
    "        index = int(min(time * sr,x.shape[0] - N))\n",
    "        frame = x[index:index+N]\n",
    "        S = librosa.stft(frame,n_fft=N,win_length=N,hop_length=N,center=False)\n",
    "        S = np.abs(S) ** 2\n",
    "        S = 10 * np.log10(S + np.finfo(float).eps)\n",
    "\n",
    "        # update the plot\n",
    "        line.set_ydata(S)\n",
    "        last_time = time\n",
    "        return True\n",
    "\n",
    "    # update function does nothing, but we need to define it to disable the default behavior\n",
    "    def update_func(time_, _pos, paused):\n",
    "        return time_, paused\n",
    "\n",
    "    # all elements which get animated must be an instance of Artist and returned here\n",
    "    return fig, ax, {\"title\": \"B05 FFT\",\n",
    "                     \"draw_function\": draw_function,\n",
    "                     \"artists\": [line], # makes the plot animatable\n",
    "                     \"override_update_function\": update_func,  # disable default behavior\n",
    "                     }\n",
    "\n",
    "plot_fft(audio)"
   ]
  }
 ],
 "metadata": {
  "kernelspec": {
   "display_name": "Python 3 (ipykernel)",
   "language": "python",
   "name": "python3"
  },
  "language_info": {
   "codemirror_mode": {
    "name": "ipython",
    "version": 3
   },
   "file_extension": ".py",
   "mimetype": "text/x-python",
   "name": "python",
   "nbconvert_exporter": "python",
   "pygments_lexer": "ipython3",
   "version": "3.10.4"
  }
 },
 "nbformat": 4,
 "nbformat_minor": 1
}
